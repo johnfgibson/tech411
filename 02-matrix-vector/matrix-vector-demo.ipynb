{
 "cells": [
  {
   "cell_type": "markdown",
   "metadata": {},
   "source": [
    "# Matrix-vector mappings\n",
    "\n",
    "Syntax and visualizations of matrix-vector operations followed by some activities\n",
    "involving rotations of polygons.\n",
    "\n",
    "Tech 411.05 *Patterns and Symmetry*, University of New Hampshire, John Gibson 2024-09-13"
   ]
  },
  {
   "cell_type": "code",
   "execution_count": null,
   "metadata": {},
   "outputs": [],
   "source": [
    "# initialize a 2d vector x using square brackets\n",
    "\n",
    "x = [-2; 1]"
   ]
  },
  {
   "cell_type": "code",
   "execution_count": null,
   "metadata": {},
   "outputs": [],
   "source": [
    "# initialize a 2x2 matrix A using square brackets\n",
    "\n",
    "A = [1 -2; -3//2 1//2 ]"
   ]
  },
  {
   "cell_type": "code",
   "execution_count": null,
   "metadata": {},
   "outputs": [],
   "source": [
    "# do a matrix-vector multiplication\n",
    "\n",
    "y = A*x"
   ]
  },
  {
   "cell_type": "code",
   "execution_count": null,
   "metadata": {},
   "outputs": [],
   "source": [
    "# access components of vectors and matrices with square brackets\n",
    "\n",
    "y[1]"
   ]
  },
  {
   "cell_type": "code",
   "execution_count": null,
   "metadata": {},
   "outputs": [],
   "source": [
    "A[1,2]"
   ]
  },
  {
   "cell_type": "code",
   "execution_count": null,
   "metadata": {},
   "outputs": [],
   "source": [
    "# Julia prints the value of the last statement executed,\n",
    "# but you can show a bunch of values with @show macro\n",
    "\n",
    "@show x[1]\n",
    "@show x[2]\n",
    "@show A[1,2]\n",
    "@show A*x"
   ]
  },
  {
   "cell_type": "markdown",
   "metadata": {},
   "source": [
    "## Visualizations of $y=Ax$"
   ]
  },
  {
   "cell_type": "code",
   "execution_count": null,
   "metadata": {},
   "outputs": [],
   "source": [
    "# Define a function for plotting vectors in plane, defaulting to red with no label\n",
    "# (plot line from origin [0; 0] to v = [v[1]; v[2]])\n",
    "\n",
    "function plotvec!(v, linecolor=:blue, label=\"\") \n",
    "    # plot syntax is plot(x, y, ...) where x is a vector of x components, y is vector of y components\n",
    "    plot!([0; v[1]], [0; v[2]], linecolor=linecolor, label=label, aspect_ratio=:equal)\n",
    "    plot!(xlim=(-4,4), ylim=(-4,4), size=(250,250))\n",
    "end\n",
    "\n",
    "function plotcurve!(c, linecolor=:blue, label=\"\") \n",
    "    # plot syntax is plot(x, y, ...) where x is a vector of x components, y is vector of y components\n",
    "    plot!(c[1,:], c[2,:], linecolor=linecolor, label=label, aspect_ratio=:equal)\n",
    "    plot!(xlim=(-4,4), ylim=(-4,4), size=(250,250))\n",
    "end"
   ]
  },
  {
   "cell_type": "code",
   "execution_count": null,
   "metadata": {},
   "outputs": [],
   "source": [
    "# define unit vectors along x₁, x₂ axes, plot \n",
    "e₁ = [1; 0]\n",
    "e₂ = [0; 1]\n",
    "\n",
    "# make plot of unit vectors\n",
    "plot()\n",
    "plotvec!(e₁, :blue, \"e₁\")\n",
    "plotvec!(e₂, :red, \"e₂\")\n",
    "#plotvec!(x, :grey, \"x\")"
   ]
  },
  {
   "cell_type": "code",
   "execution_count": null,
   "metadata": {},
   "outputs": [],
   "source": [
    "# Make plot of A * unit vectors\n",
    "\n",
    "plot()\n",
    "plotvec!(A*e₁, :blue, \"Ae₁\")\n",
    "plotvec!(A*e₂, :red, \"Ae₂\")\n",
    "#plotvec!(A*x, :black, \"Ax\")"
   ]
  },
  {
   "cell_type": "code",
   "execution_count": null,
   "metadata": {},
   "outputs": [],
   "source": [
    "# put those plots side-by-side\n",
    "\n",
    "plot()\n",
    "plotvec!(e₁, :blue, \"e₁\")\n",
    "p1 = plotvec!(e₂, :red, \"e₂\")\n",
    "\n",
    "plot()\n",
    "plotvec!(A*e₁, :blue, \"Ae₁\")\n",
    "p2 = plotvec!(A*e₂, :red, \"Ae₂\")\n",
    "\n",
    "plot(p1,p2, size=(600,250))"
   ]
  },
  {
   "cell_type": "code",
   "execution_count": null,
   "metadata": {},
   "outputs": [],
   "source": [
    "# Add a unit circle and its map to the plots\n",
    "\n",
    "θ = range(0, 2π, length=200)\n",
    "\n",
    "circle = [cos.(θ)'; sin.(θ)']  # ' is the tranpose operator, turns col vec into row vec"
   ]
  },
  {
   "cell_type": "code",
   "execution_count": null,
   "metadata": {},
   "outputs": [],
   "source": [
    "plot(p1)\n",
    "p3 = plot!(circle[1,:], circle[2,:], linecolor=:grey, label=\"circle\")"
   ]
  },
  {
   "cell_type": "code",
   "execution_count": null,
   "metadata": {},
   "outputs": [],
   "source": [
    "# compute A*circle\n",
    "\n",
    "Acircle = A*circle\n",
    "\n",
    "plot(p2)\n",
    "p4 = plot!(Acircle[1,:], Acircle[2,:], linecolor=:grey, label=\"A*circle\")"
   ]
  },
  {
   "cell_type": "code",
   "execution_count": null,
   "metadata": {},
   "outputs": [],
   "source": [
    "plot(p3,p4, size=(600,250))"
   ]
  },
  {
   "cell_type": "markdown",
   "metadata": {},
   "source": [
    "## Now you do it! (activity 1)\n",
    "\n",
    "Write a function that takes a matrix $A$ as input and produces a pair\n",
    "of plots like above, showing how $A$ maps the unit vectors and the unit circle.\n",
    "\n",
    "Try changing the matrix $A$ and see what results in the plot. \n",
    "\n",
    "You could also turn off the automatic grid lines, add your own to the left plot,\n",
    "and show in the right plot the image of that grid under the action of $A$."
   ]
  },
  {
   "cell_type": "code",
   "execution_count": null,
   "metadata": {},
   "outputs": [],
   "source": []
  },
  {
   "cell_type": "markdown",
   "metadata": {},
   "source": [
    "## Rotation matrix (activity 2)\n",
    "\n",
    "Note how the matrix $A$ typically maps the unit circle into an ellipse. Can you design\n",
    "a matrix $R$ that rotates the unit vectors e₁ and e₂ but leave the unit circle unchanged?\n",
    "\n",
    "Once you figure this out, write a function `rotation(θ)` that returns a rotation matrix $R$\n",
    "that rotates e₁ and e₂ by the angle θ."
   ]
  },
  {
   "cell_type": "code",
   "execution_count": null,
   "metadata": {},
   "outputs": [],
   "source": []
  },
  {
   "cell_type": "markdown",
   "metadata": {},
   "source": [
    "## Rotations of polygons (activity 3)\n",
    "\n",
    "Choose your favorite regular polygon: equilateral triangle, square, pentagon, hexagon, etc.\n",
    "\n",
    "Make a few pairs of plots that show the polygon on the left and a rotated polygon on the right, using\n",
    "the rotation matrix you devise in activity 2. It'll help if you plot the vertices of the polygon\n",
    "in different colors, so you can see which vertex goes where.\n",
    "\n",
    "For a given polygon, what rotation matrix rotates the polygon into a new position that \n",
    "permutes the veritices (moves each one to the position of some other) but leaves the\n",
    "whole polygon the same? Make a plot illustrating how this works for your choice of polygon.\n"
   ]
  },
  {
   "cell_type": "code",
   "execution_count": null,
   "metadata": {},
   "outputs": [],
   "source": []
  }
 ],
 "metadata": {
  "kernelspec": {
   "display_name": "Julia 1.10.0",
   "language": "julia",
   "name": "julia-1.10"
  },
  "language_info": {
   "file_extension": ".jl",
   "mimetype": "application/julia",
   "name": "julia",
   "version": "1.10.0"
  }
 },
 "nbformat": 4,
 "nbformat_minor": 2
}
