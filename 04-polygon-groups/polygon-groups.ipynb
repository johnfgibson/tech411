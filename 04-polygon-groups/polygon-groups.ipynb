{
 "cells": [
  {
   "cell_type": "markdown",
   "metadata": {},
   "source": [
    "# Polygons, rotations, and permutations: an intro to group theory\n",
    "\n",
    "Tech 411.02 *Patterns and Symmetry*, University of New Hampshire, J. Gibson 2024-09-27\n",
    "\n",
    "In this workbook, you will\n",
    "  * learn about matrix-matrix multiplication\n",
    "  * construct all the matrices that map a square onto itself\n",
    "  * make a multiplication table for those matrices\n",
    "  * show how to generate all of those matrices from just two, called the *generators*\n",
    "  * rewrite the multiplication table in terms of the generators\n",
    "  "
   ]
  },
  {
   "cell_type": "markdown",
   "metadata": {},
   "source": [
    "## Rotations of the square\n",
    "\n",
    "This section just recapitulates stuff we've done in previous sessions.\n",
    "\n",
    "First we define some handy plotting functions."
   ]
  },
  {
   "cell_type": "code",
   "execution_count": null,
   "metadata": {},
   "outputs": [],
   "source": [
    "using Plots, LinearAlgebra\n",
    "\n",
    "\"\"\"\n",
    "plotpolygon!(X; color=:blue, linestyle=:solid, title=\"\")\n",
    "\n",
    "  X is a 2 x n matrix defining the vertices of the polygon\n",
    "  color, linestyle, and title arguments are named and optional\n",
    "\"\"\"\n",
    "function plotpolygon!(X; color=:blue, linestyle=:solid, title=\"\")\n",
    "    n = size(X,2)\n",
    "    \n",
    "    # plot dots at the vertices using different colors for each\n",
    "    scatter!(X[1,:], X[2,:], label=\"\", markercolor=palette(:default)[1:n])\n",
    "    \n",
    "    # plot lines betweeen vertices, repeating last vertex to close loop\n",
    "    plot!(X[1,[1:end; 1]], X[2,[1:end; 1]], label=\"\", linecolor=color, linestyle=linestyle)\n",
    "    \n",
    "    # label the vertices with integers 1,2,....n\n",
    "    annotate!(1.25*X[1,:], 1.25*X[2,:], string.(1:n))\n",
    "    \n",
    "    # set a reasonable axes and title\n",
    "    radius = maximum([norm(X[:,j]) for j in 1:n])\n",
    "    r = Int(round(radius)) + 1\n",
    "    plot!(aspect_ratio=1, xlim=(-r,r), ylim=(-r,r), title=title)\n",
    "end\n",
    "\n",
    "\"\"\"\n",
    "plotpolygon(X; color=:blue, linestyle=:solid, title=\"\")\n",
    "\n",
    "  X is a 2 x n matrix defining the vertices of the polygon\n",
    "  color, linestyle, and title arguments are named and optional\n",
    "\"\"\"\n",
    "function plotpolygon(P; color=:blue, linestyle=:solid, title=\"\") \n",
    "    plot() \n",
    "    plotpolygon!(P, color=color, linestyle=linestyle, title=title)\n",
    "end"
   ]
  },
  {
   "cell_type": "markdown",
   "metadata": {},
   "source": [
    "Next set up a matrix $X$ containing the vertices of a square. We'll put the $x_1$ coordinates in the first row of $X$ and the $x_2$ coordinates in the second row."
   ]
  },
  {
   "cell_type": "code",
   "execution_count": null,
   "metadata": {},
   "outputs": [],
   "source": [
    "# X = the vertices of the square\n",
    "# 1st row X[1,:] = [1 -1 -1  1] are the x₁ coordinates\n",
    "# 2nd row X[2,:] = [1  1 -1 -1] are the x₂ coorindates\n",
    "X = [1 -1 -1 1; 1 1 -1 -1]"
   ]
  },
  {
   "cell_type": "code",
   "execution_count": null,
   "metadata": {},
   "outputs": [],
   "source": [
    "plotpolygon(X)"
   ]
  },
  {
   "cell_type": "markdown",
   "metadata": {},
   "source": [
    "Note that the corners of the square are label 1,2,3,4 starting at the upper-right\n",
    "corner and going counter-clockwise. \n",
    "\n",
    "Now \n",
    "  * define a function for making rotation matrices\n",
    "  * set $R$ to be the rotation matrix for some specific value of $\\theta$\n",
    "  * make a couple plots of the square $X$ before and after rotation. "
   ]
  },
  {
   "cell_type": "code",
   "execution_count": null,
   "metadata": {},
   "outputs": [],
   "source": [
    "rotation(θ) = [cos(θ) -sin(θ); sin(θ) cos(θ)]"
   ]
  },
  {
   "cell_type": "code",
   "execution_count": null,
   "metadata": {},
   "outputs": [],
   "source": [
    "R = rotation(π/6)"
   ]
  },
  {
   "cell_type": "code",
   "execution_count": null,
   "metadata": {},
   "outputs": [],
   "source": [
    "# overlay the two plots\n",
    "plotpolygon(R, color=:blue, linestyle=:dash)\n",
    "plotpolygon!(R*X, color=:blue, linestyle=:dash)"
   ]
  },
  {
   "cell_type": "code",
   "execution_count": null,
   "metadata": {},
   "outputs": [],
   "source": [
    "# show the two plots side by side\n",
    "p1 = plotpolygon(X, title=\"X\")\n",
    "p2 = plotpolygon(R*X, title=\"RX\")\n",
    "plot(p1, p2, size=(800,400))"
   ]
  },
  {
   "cell_type": "markdown",
   "metadata": {},
   "source": [
    "## The identity matrix\n",
    "\n",
    "There's a special matrix $I$ called the *identity matrix*. For two dimensions (the plane)\n",
    "the identity matrix is\n",
    "\n",
    "\\begin{align*}\n",
    "I = \\begin{bmatrix} 1 & 0 \\\\ 0 & 1\\\\ \\end{bmatrix}\n",
    "\\end{align*}\n",
    "\n",
    "**Activity:** Define the identity matrix $I$ and try multiplying a few vectors with it.\n",
    "You should get the same vector back."
   ]
  },
  {
   "cell_type": "code",
   "execution_count": null,
   "metadata": {},
   "outputs": [],
   "source": [
    "I = "
   ]
  },
  {
   "cell_type": "code",
   "execution_count": null,
   "metadata": {},
   "outputs": [],
   "source": [
    "x = \n",
    "I*x"
   ]
  },
  {
   "cell_type": "markdown",
   "metadata": {},
   "source": [
    "**Activity:** You can also think of the identity matrix as a rotation by $\\theta = 0$. \n",
    "Try evaluating the `rotation(θ)` function for $\\theta = 0$.\n",
    "Is the answer the same as the $I$ matrix you constructed above? \n",
    "What is the same? What's different?"
   ]
  },
  {
   "cell_type": "code",
   "execution_count": null,
   "metadata": {},
   "outputs": [],
   "source": []
  },
  {
   "cell_type": "markdown",
   "metadata": {},
   "source": [
    "**Activity:** Make a side-by-side plot of the square ($X$) and how it is mapped under the indentity matrix\n",
    "($IX)$.\n"
   ]
  },
  {
   "cell_type": "code",
   "execution_count": null,
   "metadata": {},
   "outputs": [],
   "source": []
  },
  {
   "cell_type": "markdown",
   "metadata": {},
   "source": [
    "## What rotations map the square onto itself?\n",
    "\n",
    "**Activity:** What four rotation matrices map the square onto itself? Think of rotating\n",
    "the square a quarter turn, a half turn, a three-quaters turn, and a full turn. Let those\n",
    "matrices be R1, R2, R3, R4. \n",
    "\n",
    "Fill out the RHS of the definitions for R1 through R4 n the code below, and then run the code to produce a plot of the square mapped onto itself by each of the four rotations."
   ]
  },
  {
   "cell_type": "code",
   "execution_count": null,
   "metadata": {},
   "outputs": [],
   "source": [
    "R1 = \n",
    "R2 = \n",
    "R3 = \n",
    "R4 =\n",
    "\n",
    "p0 = plotpolygon(X, title=\"X\")\n",
    "p1 = plotpolygon(R1*X, title=\"R₁X\")\n",
    "p2 = plotpolygon(R2*X, title=\"R₂X\")\n",
    "p3 = plotpolygon(R3*X, title=\"R₃X\")\n",
    "p4 = plotpolygon(R4*X, title=\"R₄X\")\n",
    "\n",
    "plot(p0, p1, p2, p3, p4, layout=(1,5), size=(1000, 200))"
   ]
  },
  {
   "cell_type": "markdown",
   "metadata": {},
   "source": [
    "**Question:** Does that all look sensible? Do you notice anything how the vertices move under rotation, and what patterns or order you notice about their arrangement? "
   ]
  },
  {
   "cell_type": "markdown",
   "metadata": {},
   "source": [
    "## Floating-point numbers\n",
    "\n",
    "**Activity:** Examine the values of R1 through R4. What is weird (at least slightly)?"
   ]
  },
  {
   "cell_type": "code",
   "execution_count": null,
   "metadata": {},
   "outputs": [],
   "source": []
  },
  {
   "cell_type": "code",
   "execution_count": null,
   "metadata": {},
   "outputs": [],
   "source": []
  },
  {
   "cell_type": "code",
   "execution_count": null,
   "metadata": {},
   "outputs": [],
   "source": []
  },
  {
   "cell_type": "code",
   "execution_count": null,
   "metadata": {},
   "outputs": [],
   "source": []
  },
  {
   "cell_type": "markdown",
   "metadata": {},
   "source": [
    "Note that some of the entries which should be zero are not. This is because we're working \n",
    "with floating-point numbers, and functions like $\\sin \\theta$ and $\\cos \\theta$ are not exact. \n",
    "\n",
    "\n",
    "Before we go any further, let's redefine the rotation matrices to be exactly what they\n",
    "should be, in order to eliminate any possible confusion from floating-point errors.\n",
    "\n",
    "**Activity:** Reset the rotation matrices to their exact values using just $\\pm1$ and $0$ and replot. Use the syntax `R = [a b; c d]` to set the four elements of each `R` to the \n",
    "desired values."
   ]
  },
  {
   "cell_type": "code",
   "execution_count": null,
   "metadata": {},
   "outputs": [],
   "source": [
    "R1 =\n",
    "R2 =\n",
    "R3 =\n",
    "R4 =\n",
    "\n",
    "p0 = plotpolygon(X, title=\"X\")\n",
    "p1 = plotpolygon(R1*X, title=\"R₁X\")\n",
    "p2 = plotpolygon(R2*X, title=\"R₂X\")\n",
    "p3 = plotpolygon(R3*X, title=\"R₃X\")\n",
    "p4 = plotpolygon(R4*X, title=\"R₄X\")\n",
    "\n",
    "plot(p0, p1, p2, p3, p4, layout=(1,5), size=(1000, 200))"
   ]
  },
  {
   "cell_type": "markdown",
   "metadata": {},
   "source": [
    "**Activity:** Compare the figure just above to the previous one with floating-point \n",
    "matrices. They should look identical."
   ]
  },
  {
   "cell_type": "markdown",
   "metadata": {},
   "source": [
    "## Reflections a.k.a. flips\n",
    "\n",
    "**Activity:** How many matrices can you devise that map the square onto itself by flipping it about an axis?\n",
    "Name those matrices `S1, S2, ...`. Make a plot of the square in its original orientation followed by all the flips,\n",
    "like the plots of `X, R1*X, R2*X, ...` above."
   ]
  },
  {
   "cell_type": "code",
   "execution_count": null,
   "metadata": {},
   "outputs": [],
   "source": []
  },
  {
   "cell_type": "markdown",
   "metadata": {},
   "source": [
    "**Activity/question:** Do you notice anything how the vertices move under rotation, and what patterns or order you notice about their arrangement?"
   ]
  },
  {
   "cell_type": "code",
   "execution_count": null,
   "metadata": {},
   "outputs": [],
   "source": []
  },
  {
   "cell_type": "markdown",
   "metadata": {},
   "source": [
    "**Activity/question:** How many different arrangements are there for the square? Count how many different positions\n",
    "for the vertices you find among all the plots of rotations and flips. "
   ]
  },
  {
   "cell_type": "markdown",
   "metadata": {},
   "source": []
  },
  {
   "cell_type": "markdown",
   "metadata": {},
   "source": [
    "**Activity:** If the square has $N$ distinct orientations, what $N$ matrices map the original orientation\n",
    "to the $N$ distinct orientations?"
   ]
  },
  {
   "cell_type": "code",
   "execution_count": null,
   "metadata": {},
   "outputs": [],
   "source": []
  },
  {
   "cell_type": "markdown",
   "metadata": {},
   "source": [
    "## Matrix-matrix multiplication\n",
    "\n",
    "Recall the definition of the matrix-vector multiplication for matrix $A$ and vector $x$\n",
    "\\begin{align*}\n",
    "\\begin{bmatrix} a & b \\\\ c & d \\end{bmatrix} \\begin{bmatrix} x \\\\ y \\end{bmatrix} = \\begin{bmatrix} ax+by \\\\ cx+ dy\\end{bmatrix}\n",
    "\\end{align*}\n",
    "\n",
    "Matrix-matrix multiplication $AX$ is just matrix-vector multiplication on the successive columns of $X$. \n",
    "Given \n",
    "\n",
    "\\begin{align*}\n",
    "A = \\begin{bmatrix} a & b \\\\ c & d \\end{bmatrix} \\text{ and }\n",
    "X = \\begin{bmatrix} x & w \\\\ y & z \\end{bmatrix} \n",
    "\\end{align*}\n",
    "\n",
    "the matrix-matrix product $AX$ is \n",
    "\\begin{align*}\n",
    "AX =  \\begin{bmatrix} a & b \\\\ c & d \\end{bmatrix} \\begin{bmatrix} x & w \\\\ y & z \\end{bmatrix} =\n",
    "\\begin{bmatrix} ax+by & aw+bz \\\\ cx+dy & cw+dz \\end{bmatrix} \n",
    "\\end{align*}\n",
    "\n",
    "The way to remember this is \"across and down\". To get the value in a given row and given column of $AX$,\n",
    "you go across the same row of $A$ and down the same column of $X$, multiplying the corresponding elements\n",
    "together and adding them up. \n",
    "\n",
    "**Activity:** Set $A$ and $B$ to be some two 2 x 2 matrices. Multiply the $A$ times each of the columns of\n",
    "$B$, using `A*B[:,1]` and `A*B[:,2]`. Then compare to what you get from `A*B`. \n",
    "\n",
    "Note there's nothing special about the names $A$ and $X$ used in the above discussion. $A$ and $B$\n",
    "will do just as well."
   ]
  },
  {
   "cell_type": "code",
   "execution_count": null,
   "metadata": {},
   "outputs": [],
   "source": [
    "A = \n",
    "B = "
   ]
  },
  {
   "cell_type": "code",
   "execution_count": null,
   "metadata": {},
   "outputs": [],
   "source": []
  },
  {
   "cell_type": "code",
   "execution_count": null,
   "metadata": {},
   "outputs": [],
   "source": []
  },
  {
   "cell_type": "code",
   "execution_count": null,
   "metadata": {},
   "outputs": [],
   "source": []
  },
  {
   "cell_type": "markdown",
   "metadata": {},
   "source": [
    "**Activity:** Just for fun, make side-by-side plots of the square $X$ and $AX$ for the $A$ you defined above.\n",
    "What do you think? Not every matrix is a rotation matrix!"
   ]
  },
  {
   "cell_type": "markdown",
   "metadata": {},
   "source": []
  },
  {
   "cell_type": "markdown",
   "metadata": {},
   "source": [
    "## Multiplying rotations and reflections\n",
    "\n",
    "Now that we have a grip on matrix-matrix multiplication, consider the following. \n",
    "\n",
    "Given a vector $x$, we can rotate the vector through some angle $\\alpha$ to some new position $x'$\n",
    "with a rotation matrix $R_{\\alpha}$, via $x' = R_{\\alpha}x$. \n",
    "        \n",
    "We can then rotate $x'$ by another angle $\\beta$ to a new position $x''$ by $x'' = R_{\\beta}x'$.\n",
    "\n",
    "By substitution, we have $x'' = R_{\\beta}x' = R_{\\beta}(R_{\\alpha}x)$. \n",
    "\n",
    "Now the wonderful thing about matrix-matrix multiplication is that it is associative by design!\n",
    "\n",
    "That is, $x'' = R_{\\beta}(R_{\\alpha}x) = (R_{\\beta}R_{\\alpha})x$. \n",
    "\n",
    "In other words, you can chain together the actions of several matrcies into one just by multiplying the matrices together!\n",
    "\n",
    "**Activity:** Convince yourself that the matrix multiplication is associative, at least for\n",
    "rotation matrices, by multiplying two rotation matrices together and applying some trig identities.\n",
    "\n",
    "Let $R_{\\alpha}$ and $R_{\\beta}$ be the rotation matrices\n",
    "\\begin{align*}\n",
    "R_{\\alpha} = \\begin{bmatrix} \\cos(\\alpha) & -\\sin(\\alpha) \\\\ \\sin(\\alpha) & \\cos(\\alpha) \\end{bmatrix} \n",
    "\\quad \\text{and} \\quad \n",
    "R_{\\beta} = \\begin{bmatrix} \\cos(\\beta) & -\\sin(\\beta) \\\\ \\sin(\\beta) & \\cos(\\beta) \\end{bmatrix}\n",
    "\\end{align*}\n",
    "\n",
    "Calculate the product $R_{\\alpha} R_{\\beta}$ by the matrix-matrix multiplication formula given above\n",
    "(the one written in terms of matrices $A$ and $X$). You should get that $R_{\\alpha} R_{\\beta} = R_{\\alpha + \\beta}$."
   ]
  },
  {
   "cell_type": "markdown",
   "metadata": {},
   "source": [
    "**Activity:** Verify that $R_{\\alpha} R_{\\beta} = R_{\\alpha + \\beta}$ with a numerical calculation.\n",
    "I.e. chose an angle $\\alpha$ and angle $\\beta$, let `Ra` and `Rb` be the rotation matrices for $\\alpha$\n",
    "and $\\beta$ respectively. Then do the multiplication `Ra*Rb`, and verify that the answer is the same\n",
    "as the rotation matrix for $\\alpha + \\beta$."
   ]
  },
  {
   "cell_type": "code",
   "execution_count": null,
   "metadata": {},
   "outputs": [],
   "source": []
  },
  {
   "cell_type": "markdown",
   "metadata": {},
   "source": [
    "## A multiplication table for rotations and reflections of the square\n",
    "\n",
    "\n",
    "**Activity:** Make a multiplication table for the $N$ matrices you found above, the ones that map\n",
    "the square to $N$ distinct orientations. \n",
    "\n",
    "Here's how: Go back to the $N$ matrices you found that map the square to $N$ distinct orientations. \n",
    "Suppose you have those labeled `R1`, `R2`, ..., `S1`, `S2`, ....\n",
    "\n",
    "Make a table for `R1`, `R2`, ..., `S1`, `S2` times `R1`, `R2`, ..., `S1`, `S2`.\n",
    "\n",
    "That is, make a table with rows labeled `R1`, `R2`, ..., `S1`, `S2` and columns labeled the same way.\n",
    "\n",
    "Then for each table entry, multiply the matrix in the row (say `R1`) by the matrix in the column (say `S2`).\n",
    "\n",
    "The product should be one of the $N$ matrices in your list. Write the name of that matrix in the table.\n",
    "\n",
    "You can write the multiplication table on a sheet of paper or in comments in a code cell, like shown below.\n",
    "\n",
    "Don't do the multiplications by hand. Use the computer! In fact, with sufficient cleverness, you can \n",
    "get the computer to do all the calculations and arrange them into a nice table. That is a challenge, though!"
   ]
  },
  {
   "cell_type": "code",
   "execution_count": null,
   "metadata": {},
   "outputs": [],
   "source": [
    "# a multiplication table for the rotations and reflections of the square\n",
    "\n",
    "#  * | R1  R2 ...\n",
    "# -------------\n",
    "# R1 | R2  R3\n",
    "# R2 | R3  R4\n",
    "#  . |\n",
    "#  . |\n"
   ]
  },
  {
   "cell_type": "markdown",
   "metadata": {},
   "source": [
    "**Activity/question:** What do you notice about this multiplication table, compared to a multiplication\n",
    "table for the integers?"
   ]
  },
  {
   "cell_type": "markdown",
   "metadata": {},
   "source": [
    "## Highlighting the identity\n",
    "\n",
    "One of the matrices in your list of $N$ should be the identity matrix. If you have not already done\n",
    "so, represent the identity matrix with $I$ (or `I` in code), and rewrite your multiplication table\n",
    "using $I$ for all identity matrices."
   ]
  },
  {
   "cell_type": "code",
   "execution_count": null,
   "metadata": {},
   "outputs": [],
   "source": []
  },
  {
   "cell_type": "markdown",
   "metadata": {},
   "source": [
    "## Generators\n",
    "\n",
    "You should be able to express all $N$ matrices as products of only two matrices. There are many choices\n",
    "for the two matrices --but some pairs of matrices won't work! \n",
    "\n",
    "**Activity:** Find two matrices from your set of $N$ that can produce all the others by multiplication.\n",
    "\n",
    "Hint: Using powers of matrices will make this easier. For example, the product $A*A$ can be written\n",
    "as $A^2$, etc."
   ]
  },
  {
   "cell_type": "code",
   "execution_count": null,
   "metadata": {},
   "outputs": [],
   "source": [
    "A = [2 -3; 4 1]"
   ]
  },
  {
   "cell_type": "code",
   "execution_count": null,
   "metadata": {},
   "outputs": [],
   "source": [
    "A*A"
   ]
  },
  {
   "cell_type": "code",
   "execution_count": null,
   "metadata": {},
   "outputs": [],
   "source": [
    "A^2"
   ]
  },
  {
   "cell_type": "markdown",
   "metadata": {},
   "source": [
    "## What, you're done already?\n",
    "\n",
    "Redo all the above for a pentagon, hexagon, heptagon, .... Interesting patterns emerge!"
   ]
  },
  {
   "cell_type": "code",
   "execution_count": null,
   "metadata": {},
   "outputs": [],
   "source": []
  }
 ],
 "metadata": {
  "kernelspec": {
   "display_name": "Julia 1.10.0",
   "language": "julia",
   "name": "julia-1.10"
  },
  "language_info": {
   "file_extension": ".jl",
   "mimetype": "application/julia",
   "name": "julia",
   "version": "1.10.0"
  }
 },
 "nbformat": 4,
 "nbformat_minor": 5
}
