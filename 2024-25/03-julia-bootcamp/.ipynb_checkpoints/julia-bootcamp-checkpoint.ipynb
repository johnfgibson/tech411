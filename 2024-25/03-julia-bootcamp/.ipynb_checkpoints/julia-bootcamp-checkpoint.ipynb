{
 "cells": [
  {
   "cell_type": "markdown",
   "metadata": {},
   "source": [
    "# Julia bootcamp\n",
    "\n",
    "A basic introduction to vectors, matrices, and plotting in Julia. This notebook will equip\n",
    "you for exploring and visualizing the mathematics of symmetry. \n",
    "\n",
    "Instructions: \n",
    "  * step through the notebook\n",
    "  * read the explanatory comments\n",
    "  * read, execute, and try to understand the example code\n",
    "  * try the activities\n",
    "  * try your own variations on activities and example code\n",
    "  \n",
    "The notebook ends with three challenge activities that synthesize what you've learned.\n",
    "\n",
    "Tech 411.05 *Patterns and Symmetry*, University of New Hampshire, fall 2024, J. Gibson\n",
    "\n",
    "\n",
    "## Why Julia?\n",
    "\n",
    "Julia is a open-source (free), general-purpose, language designed for math and speed. \n",
    "\n",
    "Julia has\n",
    "  * the math focus of Matlab\n",
    "  * the freedom, flexibility, and general-purpose capabilities of Python\n",
    "  * the execution speed of C, C++, Fortran\n",
    "  * the metaprogramming magic of LISP\n",
    "  * best-of-breed packaging and version control\n",
    "  \n",
    "No other language combines these features.  \n",
    "\n",
    "The downsides of Julia are\n",
    "  * a young language, less widely used than Python, Matlab, C, or Fortran.\n",
    "  * requires some disk space for packages\n",
    "  * not currently installed on UNH computers (I'm working on this...)\n",
    "  \n",
    "However, Julia is very much on the rise, it is way easier and more sensible than alternatives,\n",
    "people are doing and amazing things with it that are not possible in other languages. Julia is\n",
    "the future of computational math!\n",
    "\n",
    "## Julia notebooks\n",
    "\n",
    "A Julia notebook is an interactive document that combines Julia code, text & graphical output, and math & text annotation.\n",
    "Julia notebooks use the same Jupyter notebook technology as Python and R notebooks. \n",
    "\n",
    "The notebook consists of cells of three types: code, output, and text.\n",
    "\n",
    "### Text cells\n",
    "\n",
    "Text cells are written in a simple mark-up language called Markdown, with mathematical notation in LaTeX. Double-click this cell to see how the boldface headers, bullet lists, and the equation below are represented and edited in Markdown and LaTeX. \n",
    "\n",
    "\\begin{equation}\n",
    "\\int \\frac{1}{1+x^2} dx = \\tan^{-1} x + c\n",
    "\\end{equation}\n",
    "\n",
    "Then hit shift-enter to return the cell to display mode. You can edit the text before returning to display mode, if you like. The LaTeX typesetting allows for inline formulae, too, for example: $\\cos^2(\\theta) + \\sin^2(\\theta) = 1$.\n",
    "\n",
    "### Code and text output cells\n",
    "\n",
    "Below is a cell containing Julia code. Execute it by clicking on the cell and hitting shift-enter."
   ]
  },
  {
   "cell_type": "code",
   "execution_count": null,
   "metadata": {},
   "outputs": [],
   "source": [
    "θ = range(0, 2π, length=11)"
   ]
  },
  {
   "cell_type": "markdown",
   "metadata": {},
   "source": [
    "After you execute a cell, the notebook prints the value of the last statement executed, here the value of θ. The value of θ here is the set of 11 evenly-space numbers from 0 to 2π, expressed in the form `start:step:stop`.\n",
    "\n",
    "You can see all the numeric values in θ by converting the set to a vector with the `collect` function. Hit shift-enter on the code cell below to see."
   ]
  },
  {
   "cell_type": "code",
   "execution_count": null,
   "metadata": {},
   "outputs": [],
   "source": [
    "collect(θ)"
   ]
  },
  {
   "cell_type": "markdown",
   "metadata": {},
   "source": [
    "### Code and graphical output cells\n",
    "\n",
    "Here's some code that generates a plot of $\\sin(x)$ and $\\cos(x)$ over $0 \\leq θ \\leq 2\\pi$. The `using Plots` line loads the plotting package. `plot(...)` starts a new plot, and `plot!(...)` adds to or revises the current plot. In a code cell like this with multiple lines (statements), Julia will execute the statements and then display the result of the last statement, here a plot."
   ]
  },
  {
   "cell_type": "code",
   "execution_count": null,
   "metadata": {},
   "outputs": [],
   "source": [
    "using Plots\n",
    "\n",
    "θ = range(0, 2π, length=201)\n",
    "\n",
    "plot(θ, cos.(θ), linecolor=:blue, label=\"cos(θ)\")\n",
    "plot!(θ, sin.(θ), linecolor=:red, label=\"sin(θ)\")\n",
    "plot!(xlabel=\"θ\")"
   ]
  },
  {
   "cell_type": "markdown",
   "metadata": {},
   "source": [
    "Note the . between `cos` and `(θ)` in the above code, and same for `sin`. This is \"dot syntax\" telling Julia to apply `cos` to each element of the vector of values in θ. You'll find a more detailed explanation of dot syntax\n",
    "further on in this notebook. \n",
    "\n",
    "To switch a cell between text and code modes, click on the cell and use the `Cell -> Cell type` menu above\n",
    "(there are also keyboard shortcuts for commonly used commands)."
   ]
  },
  {
   "cell_type": "markdown",
   "metadata": {},
   "source": [
    "## Julia fundamentals: examples and activities\n",
    "\n",
    "I'm going to show you Julia basics by example. After each example there's an activity for you to do.\n",
    "By the end you should know enough to do basic math in Julia and to make interesting plots."
   ]
  },
  {
   "cell_type": "markdown",
   "metadata": {},
   "source": [
    "### 1. Greek letters and symbols\n",
    "\n",
    "You enter Greek letters and symbol in Julia code cells like this: `\\theta<TAB>` gives you θ. \n",
    "(That means type `\\theta` then hit the TAB key.) \n",
    "\n",
    "**Activity:** Position the cursor after `\\theta`, hit TAB, and watch it turn into `θ`. Depending on "
   ]
  },
  {
   "cell_type": "code",
   "execution_count": null,
   "metadata": {},
   "outputs": [],
   "source": [
    "\\theta"
   ]
  },
  {
   "cell_type": "markdown",
   "metadata": {},
   "source": [
    "**Activity:** Try entering a Greek letter or math symbol of your choice in the cell below. "
   ]
  },
  {
   "cell_type": "code",
   "execution_count": null,
   "metadata": {},
   "outputs": [],
   "source": []
  },
  {
   "cell_type": "markdown",
   "metadata": {},
   "source": [
    "### 2. Assigning variables\n",
    "\n",
    "You assign a value to a variable like this "
   ]
  },
  {
   "cell_type": "code",
   "execution_count": null,
   "metadata": {},
   "outputs": [],
   "source": [
    "x = 4.5"
   ]
  },
  {
   "cell_type": "markdown",
   "metadata": {},
   "source": [
    "After excuting that statement, Julia remembers the value of `x` as 4.5."
   ]
  },
  {
   "cell_type": "code",
   "execution_count": null,
   "metadata": {},
   "outputs": [],
   "source": [
    "x"
   ]
  },
  {
   "cell_type": "markdown",
   "metadata": {},
   "source": [
    "**Activity:** Try setting the variable ϕ to π/2. (ϕ is pronounced \"phi.\")"
   ]
  },
  {
   "cell_type": "code",
   "execution_count": null,
   "metadata": {},
   "outputs": [],
   "source": []
  },
  {
   "cell_type": "markdown",
   "metadata": {},
   "source": [
    "### 3. Executing functions\n",
    "\n",
    "Basic syntax of function execution in Julia is `y = f(x)`. That evaluates the function `f` on value `x` and assigns the result to `y`. \n",
    "\n",
    "**Activity:** Try executing the cell below (it'll work if you did the last activity correctly)."
   ]
  },
  {
   "cell_type": "code",
   "execution_count": null,
   "metadata": {},
   "outputs": [],
   "source": [
    "y = sin(ϕ)"
   ]
  },
  {
   "cell_type": "markdown",
   "metadata": {},
   "source": [
    "### 4. Writing functions\n",
    "\n",
    "Julia has several ways to write functions.\n",
    "\n",
    "#### Simple one-liners\n",
    "\n",
    "Define the function $f(x) = x^2 -3$ in one line:"
   ]
  },
  {
   "cell_type": "code",
   "execution_count": null,
   "metadata": {},
   "outputs": [],
   "source": [
    "f(x) = x^2 - 3"
   ]
  },
  {
   "cell_type": "markdown",
   "metadata": {},
   "source": [
    "Evaluate $f(x)$ at $x=1$"
   ]
  },
  {
   "cell_type": "code",
   "execution_count": null,
   "metadata": {},
   "outputs": [],
   "source": [
    "f(1)"
   ]
  },
  {
   "cell_type": "markdown",
   "metadata": {},
   "source": [
    "#### Multiliners\n",
    "\n",
    "Longer functions that require multiple steps can be defined with `function ... end`:"
   ]
  },
  {
   "cell_type": "code",
   "execution_count": null,
   "metadata": {},
   "outputs": [],
   "source": [
    "function g(x)\n",
    "    y = 0\n",
    "    for n = 0:5\n",
    "        y = y + x^n\n",
    "    end\n",
    "    y\n",
    "end"
   ]
  },
  {
   "cell_type": "markdown",
   "metadata": {},
   "source": [
    "The value returned by a function is the value of the last statement executed, here `y`."
   ]
  },
  {
   "cell_type": "code",
   "execution_count": null,
   "metadata": {},
   "outputs": [],
   "source": [
    "g(0.1)"
   ]
  },
  {
   "cell_type": "markdown",
   "metadata": {},
   "source": [
    "**Activity:** Write a function `nsum(n)` that returns the sum of the numbers 1 through n."
   ]
  },
  {
   "cell_type": "markdown",
   "metadata": {},
   "source": [
    "#### Maps a.k.a anonymous functions\n",
    "\n",
    "You can also define functions as maps in the form `x -> some function of x`.\n",
    "This syntax will be useful later. "
   ]
  },
  {
   "cell_type": "code",
   "execution_count": null,
   "metadata": {},
   "outputs": [],
   "source": [
    "x -> x^2 - 3"
   ]
  },
  {
   "cell_type": "markdown",
   "metadata": {},
   "source": [
    "The `x -> x^2 -3` function above was defined without a name, hence the term \"anonymous function.\"\n",
    "But you can assign that function to a name and evaluate it like a normal function as follows."
   ]
  },
  {
   "cell_type": "code",
   "execution_count": null,
   "metadata": {},
   "outputs": [],
   "source": [
    "h = x -> x^2 - 3"
   ]
  },
  {
   "cell_type": "code",
   "execution_count": null,
   "metadata": {},
   "outputs": [],
   "source": [
    "h(1.0)"
   ]
  },
  {
   "cell_type": "markdown",
   "metadata": {},
   "source": [
    "**Activity:** Define these functions using three function definition methods shown above.\n",
    "\n",
    "\\begin{align*}\n",
    "  F(x) &= x^2 - 2x -3 \\\\\n",
    "  G(x) &= \\cos(x/4) \\\\\n",
    "  H(x) &= 1/x \n",
    "\\end{align*}"
   ]
  },
  {
   "cell_type": "code",
   "execution_count": null,
   "metadata": {},
   "outputs": [],
   "source": []
  },
  {
   "cell_type": "code",
   "execution_count": null,
   "metadata": {},
   "outputs": [],
   "source": []
  },
  {
   "cell_type": "code",
   "execution_count": null,
   "metadata": {},
   "outputs": [],
   "source": []
  },
  {
   "cell_type": "markdown",
   "metadata": {},
   "source": [
    "**Activity:** Evaluate $F(1), G(\\pi),$ and $H(0)$"
   ]
  },
  {
   "cell_type": "code",
   "execution_count": null,
   "metadata": {},
   "outputs": [],
   "source": []
  },
  {
   "cell_type": "code",
   "execution_count": null,
   "metadata": {},
   "outputs": [],
   "source": []
  },
  {
   "cell_type": "code",
   "execution_count": null,
   "metadata": {},
   "outputs": [],
   "source": []
  },
  {
   "cell_type": "markdown",
   "metadata": {},
   "source": [
    "### 5. Vectors: square-bracket,  colon, & dot syntax\n",
    "\n",
    "Vectors are an extraordinarily important part of any computational mathematics system. \n",
    "Julia has several ways to define vectors.\n",
    "\n",
    "**Explicit lists in square brackets**\n",
    "\n",
    "Put a bunch of numbers separated by semicolons in square brackets."
   ]
  },
  {
   "cell_type": "code",
   "execution_count": null,
   "metadata": {},
   "outputs": [],
   "source": [
    "x = [1.3; 2.2; 8]"
   ]
  },
  {
   "cell_type": "markdown",
   "metadata": {},
   "source": [
    "**Colon syntax**\n",
    "\n",
    "The syntax `start:stop` makes a set of numbers from `start` to `stop` in steps of 1. \n",
    "This syntax does not actually evaluate and store the complete vector until its used,\n",
    "or until you convert it to an explicit vector with `collect`."
   ]
  },
  {
   "cell_type": "code",
   "execution_count": null,
   "metadata": {},
   "outputs": [],
   "source": [
    "x = 3:7"
   ]
  },
  {
   "cell_type": "code",
   "execution_count": null,
   "metadata": {},
   "outputs": [],
   "source": [
    "collect(x)"
   ]
  },
  {
   "cell_type": "markdown",
   "metadata": {},
   "source": [
    "The syntax `start:step:stop` does the same but in steps of `step` rather than 1.\n",
    "The following constructs the integers from 4 to 22 in steps of 2, i.e. the even integers \n",
    "in that range."
   ]
  },
  {
   "cell_type": "code",
   "execution_count": null,
   "metadata": {},
   "outputs": [],
   "source": [
    "4:2:22"
   ]
  },
  {
   "cell_type": "code",
   "execution_count": null,
   "metadata": {},
   "outputs": [],
   "source": [
    "collect(4:2:22)"
   ]
  },
  {
   "cell_type": "markdown",
   "metadata": {},
   "source": [
    "#### The range function\n",
    "\n",
    "`range(start, stop, step=...)` does the same as `start:step:stop`"
   ]
  },
  {
   "cell_type": "code",
   "execution_count": null,
   "metadata": {},
   "outputs": [],
   "source": [
    "range(4,22, step=2)"
   ]
  },
  {
   "cell_type": "code",
   "execution_count": null,
   "metadata": {},
   "outputs": [],
   "source": [
    "collect(range(4,22, step=2))"
   ]
  },
  {
   "cell_type": "markdown",
   "metadata": {},
   "source": [
    "`range(start, stop, length=...)` makes a range of equally-spaced numbers from `start` to `stop`,\n",
    "where `length` specifies how many equally-spaced numbers there should be"
   ]
  },
  {
   "cell_type": "code",
   "execution_count": null,
   "metadata": {},
   "outputs": [],
   "source": [
    "range(4, 22, 5)"
   ]
  },
  {
   "cell_type": "code",
   "execution_count": null,
   "metadata": {},
   "outputs": [],
   "source": [
    "collect(range(4, 22, 5))"
   ]
  },
  {
   "cell_type": "markdown",
   "metadata": {},
   "source": [
    "**Activity:** Make a vector `y` of the even numbers from 0 to 6 using an explicit list in square brackets."
   ]
  },
  {
   "cell_type": "code",
   "execution_count": null,
   "metadata": {},
   "outputs": [],
   "source": []
  },
  {
   "cell_type": "markdown",
   "metadata": {},
   "source": [
    "**Activity:** Make a vector `x` of odd numbers from 11 to 23."
   ]
  },
  {
   "cell_type": "code",
   "execution_count": null,
   "metadata": {},
   "outputs": [],
   "source": []
  },
  {
   "cell_type": "markdown",
   "metadata": {},
   "source": [
    " **Activity:** Make a vector `θ` of 100 evenly-spaced numbers from 0 to 2π."
   ]
  },
  {
   "cell_type": "code",
   "execution_count": null,
   "metadata": {},
   "outputs": [],
   "source": []
  },
  {
   "cell_type": "markdown",
   "metadata": {},
   "source": [
    "### 6. Vectors: accessing individual elements\n",
    "\n",
    "You can get or set the elements or components of a vector using square brackets and\n",
    "integer indices. Here I'll create a vector of random elements (between 0 and 1) and\n",
    "then access and reset individual elements with square brackets."
   ]
  },
  {
   "cell_type": "code",
   "execution_count": null,
   "metadata": {},
   "outputs": [],
   "source": [
    "x = rand(7)"
   ]
  },
  {
   "cell_type": "code",
   "execution_count": null,
   "metadata": {},
   "outputs": [],
   "source": [
    "x[1]"
   ]
  },
  {
   "cell_type": "code",
   "execution_count": null,
   "metadata": {},
   "outputs": [],
   "source": [
    "x[2]"
   ]
  },
  {
   "cell_type": "code",
   "execution_count": null,
   "metadata": {},
   "outputs": [],
   "source": [
    "# set third component to zero\n",
    "x[3] = 0"
   ]
  },
  {
   "cell_type": "code",
   "execution_count": null,
   "metadata": {},
   "outputs": [],
   "source": [
    "# view the modified vector\n",
    "x"
   ]
  },
  {
   "cell_type": "markdown",
   "metadata": {},
   "source": [
    "### 7. Vectors: accessing multiple elements\n",
    "\n",
    "Now the tricks begin! You can access or set multiple elements of a vector by using \n",
    "*sets of indices* in square brackets.\n",
    "\n",
    "Let's set x to the range from 1.3 to 11.3 in steps of 1. I'll turn the range into\n",
    "a vector of explicit number with `collect`."
   ]
  },
  {
   "cell_type": "code",
   "execution_count": null,
   "metadata": {},
   "outputs": [],
   "source": [
    "x = collect(1.3:11.3)"
   ]
  },
  {
   "cell_type": "markdown",
   "metadata": {},
   "source": [
    "That's 11 numbers, which we can confirm by checking the length of the vector."
   ]
  },
  {
   "cell_type": "code",
   "execution_count": null,
   "metadata": {},
   "outputs": [],
   "source": [
    "length(x)"
   ]
  },
  {
   "cell_type": "markdown",
   "metadata": {},
   "source": [
    "Now we can get the first three components of `x` by using a vector indices `[1; 2; 3]` within the square brackets."
   ]
  },
  {
   "cell_type": "code",
   "execution_count": null,
   "metadata": {},
   "outputs": [],
   "source": [
    "x[[1; 2; 3]]"
   ]
  },
  {
   "cell_type": "markdown",
   "metadata": {},
   "source": [
    "Or we can get the odd-numbered components using `[1; 3; 5; 7; 9; 11]` within the square brackets."
   ]
  },
  {
   "cell_type": "code",
   "execution_count": null,
   "metadata": {},
   "outputs": [],
   "source": [
    "x[[1; 3; 5; 7; 9; 11]]"
   ]
  },
  {
   "cell_type": "markdown",
   "metadata": {},
   "source": [
    "**Activity:** Typing out all those numbers is a pain. So instead of typing out `[1; 2; 3]` and \n",
    "`[1; 3; 5; 7; 9; 11]` in those last examples, trying accessing the same elements using the colon\n",
    "syntax covered above. "
   ]
  },
  {
   "cell_type": "code",
   "execution_count": null,
   "metadata": {},
   "outputs": [],
   "source": [
    "# put colon syntax inside the square brackets to access elements 1 through 3\n",
    "x[ ] "
   ]
  },
  {
   "cell_type": "code",
   "execution_count": null,
   "metadata": {},
   "outputs": [],
   "source": [
    "#put colon syntax inside the square brackets to access all the odd elements\n",
    "x[ ] "
   ]
  },
  {
   "cell_type": "markdown",
   "metadata": {},
   "source": [
    "**Activity:** Get the elements of `x` in reverse order using a range with a negative step inside the square brackets."
   ]
  },
  {
   "cell_type": "code",
   "execution_count": null,
   "metadata": {},
   "outputs": [],
   "source": [
    "x[ ]"
   ]
  },
  {
   "cell_type": "markdown",
   "metadata": {},
   "source": [
    "### 8. Dot syntax\n",
    "\n",
    "Julia has all sorts of built-in elementary functions, like `sin`, `cos`, `exp` ($e^x$), `log`, etc.\n",
    "And those work just like you'd expect them too. For example, you compute the value of $\\tan(\\theta)$ \n",
    "for some value of $\\theta$ with ..."
   ]
  },
  {
   "cell_type": "code",
   "execution_count": null,
   "metadata": {},
   "outputs": [],
   "source": [
    "θ = π/4\n",
    "tan(θ)"
   ]
  },
  {
   "cell_type": "markdown",
   "metadata": {},
   "source": [
    "...except that computer math has finite precision, so sometimes you don't get exactly the answer you'd expect.\n",
    "\n",
    "We've seen how to make $\\theta$ a vector containing a range of values over an interval, using colon syntax or the `range` function. So how do we compute the tangent of all the values in the vector $\\theta$? Is it $\\tan(\\theta)$ when $\\theta$ is a vector?"
   ]
  },
  {
   "cell_type": "code",
   "execution_count": null,
   "metadata": {},
   "outputs": [],
   "source": [
    "# not this way!\n",
    "\n",
    "θ = collect(range(-π/4, π/4, length=128))\n",
    "tan(θ)"
   ]
  },
  {
   "cell_type": "markdown",
   "metadata": {},
   "source": [
    "Yikes! That gives us an error message, which says that Julia cannot evaluate the tangent of a vector.\n",
    "\n",
    "This makes perfect sense mathematically. The tangent is a *scalar function*, a function that maps real\n",
    "numbers to real numbers (math notation $\\tan : \\mathbb{R} \\rightarrow \\mathbb{R}$). The tangent of a\n",
    "vector is not defined in mathematics. Unlike some other languages (Matlab, Python, I'm looking at you!),\n",
    "Julia follows mathematics carefully.\n",
    "\n",
    "The way to evaluate $\\tan(\\theta)$ for a vector of values $\\theta$ is with *dot syntax*. Put a period\n",
    "(a dot) between the function `tan`and the argument `(θ)`. That tells Julia to apply the scalar function\n",
    "`tan` to each element of `θ`, one-by-one, and return all the values in a vector of the same size as `θ`."
   ]
  },
  {
   "cell_type": "code",
   "execution_count": null,
   "metadata": {},
   "outputs": [],
   "source": [
    "tan.(θ)"
   ]
  },
  {
   "cell_type": "markdown",
   "metadata": {},
   "source": [
    "Yay! That's what we want.\n",
    "\n",
    "The dot syntax works on user-defined functions as well as built-in functions.\n",
    "Remember how we defined $f(x) = x^2 - 3$ above? Let's evaluate $f(x)$ over\n",
    "a range of values between -1 and 1."
   ]
  },
  {
   "cell_type": "code",
   "execution_count": null,
   "metadata": {},
   "outputs": [],
   "source": [
    "x = -1:.1:1\n",
    "f.(x)"
   ]
  },
  {
   "cell_type": "markdown",
   "metadata": {},
   "source": [
    "The general idea of dot syntax is to tell Julia \"do this operation elementwise.\" For example,"
   ]
  },
  {
   "cell_type": "code",
   "execution_count": null,
   "metadata": {},
   "outputs": [],
   "source": [
    "x = collect(-4:4)\n",
    "y = x^2 "
   ]
  },
  {
   "cell_type": "markdown",
   "metadata": {},
   "source": [
    "doesn't work, because `x` is a vector and the square operation is not defined on vectors.\n",
    "\n",
    "But `x.^2` tells Julia to compute the square of all the elements in the vector `x`."
   ]
  },
  {
   "cell_type": "code",
   "execution_count": null,
   "metadata": {},
   "outputs": [],
   "source": [
    "x = collect(-4:4)\n",
    "y = x.^2 "
   ]
  },
  {
   "cell_type": "markdown",
   "metadata": {},
   "source": [
    "Similarly, `x + 1` is not defined if `x` is a vector:"
   ]
  },
  {
   "cell_type": "code",
   "execution_count": null,
   "metadata": {},
   "outputs": [],
   "source": [
    "x = collect(-4:4)\n",
    "x + 1"
   ]
  },
  {
   "cell_type": "markdown",
   "metadata": {},
   "source": [
    "If you want to add 3 to every element of `x`, use dot syntax:"
   ]
  },
  {
   "cell_type": "code",
   "execution_count": null,
   "metadata": {},
   "outputs": [],
   "source": [
    "x = collect(-4:4)\n",
    "x .+ 3"
   ]
  },
  {
   "cell_type": "markdown",
   "metadata": {},
   "source": [
    "To evaluate a polynomial over a vector, sprinckle dot syntax as needed."
   ]
  },
  {
   "cell_type": "code",
   "execution_count": null,
   "metadata": {},
   "outputs": [],
   "source": [
    "x = collect(-4:4)\n",
    "\n",
    "y = x.^2 - 3x .+ 1"
   ]
  },
  {
   "cell_type": "markdown",
   "metadata": {},
   "source": [
    "Note that dot are *not needed* for `3x`, because scalar-vector multiplication is perfectly well-defined in mathematics, nor for the subtraction `-` between the vectors `x.^2` and `3x`, because addition and subtraction \n",
    "on vectors of the same dimension is also perfectly well-defined in mathematics."
   ]
  },
  {
   "cell_type": "markdown",
   "metadata": {},
   "source": [
    "### 9. Matrices\n",
    "\n",
    "#### Ways to construct matrices..."
   ]
  },
  {
   "cell_type": "code",
   "execution_count": null,
   "metadata": {},
   "outputs": [],
   "source": [
    "# with square brackets, with semicolons to separate rows\n",
    "A = [1 2 3 ; 4 5 6 ; 7 8 9]"
   ]
  },
  {
   "cell_type": "code",
   "execution_count": null,
   "metadata": {},
   "outputs": [],
   "source": [
    "# \"list comprehension\"\n",
    "\n",
    "A = [10i + j for i in 1:4, j in 1:3]"
   ]
  },
  {
   "cell_type": "code",
   "execution_count": null,
   "metadata": {},
   "outputs": [],
   "source": [
    "# initialize a zero matrix \n",
    "A = zeros(4,4)"
   ]
  },
  {
   "cell_type": "code",
   "execution_count": null,
   "metadata": {},
   "outputs": [],
   "source": [
    "# a matrix of normally-distributed random numbers\n",
    "A = randn(3,3)"
   ]
  },
  {
   "cell_type": "code",
   "execution_count": null,
   "metadata": {},
   "outputs": [],
   "source": [
    "# fill a matrix with the value 2.5\n",
    "\n",
    "A = fill(2.5, 4, 7)"
   ]
  },
  {
   "cell_type": "markdown",
   "metadata": {},
   "source": [
    "#### Accessing elements of matrices\n",
    "\n",
    "This is similar to vectors."
   ]
  },
  {
   "cell_type": "code",
   "execution_count": null,
   "metadata": {},
   "outputs": [],
   "source": [
    "# make a matrix of random integers between -10 and 10\n",
    "A = [rand(Int) % 10 for i in 1:3, j in 1:4]"
   ]
  },
  {
   "cell_type": "markdown",
   "metadata": {},
   "source": [
    "Matrices are index by row and column numbers. E.g. $A_{23}$ means the element in \n",
    "the 2nd row and 3rd column. Julia syntax for accessing $A_{23}$ is `A[2,3]`."
   ]
  },
  {
   "cell_type": "code",
   "execution_count": null,
   "metadata": {},
   "outputs": [],
   "source": [
    "# access the 1,2 element of A, i.e. the element in the 1st row and 2nd column\n",
    "\n",
    "A[2,3]"
   ]
  },
  {
   "cell_type": "markdown",
   "metadata": {},
   "source": [
    "Like vectors, you can access parts of a matrix by using ranges within the square brackets."
   ]
  },
  {
   "cell_type": "code",
   "execution_count": null,
   "metadata": {},
   "outputs": [],
   "source": [
    "# access elements in the 3rd row, columns 2 through 4\n",
    "A[3, 2:4]"
   ]
  },
  {
   "cell_type": "markdown",
   "metadata": {},
   "source": [
    "**An important trick:** accessing *all* the elements in a given row or colums. To do this,\n",
    "use a colon without any start or stop value!"
   ]
  },
  {
   "cell_type": "code",
   "execution_count": null,
   "metadata": {},
   "outputs": [],
   "source": [
    "# get the first column of A\n",
    "A[:,1]"
   ]
  },
  {
   "cell_type": "code",
   "execution_count": null,
   "metadata": {},
   "outputs": [],
   "source": [
    "# get the second row of A\n",
    "A[2,:]"
   ]
  },
  {
   "cell_type": "markdown",
   "metadata": {},
   "source": [
    "Often we use matrices to store the $x,y$ or $x,y,z$ values of many data points.\n"
   ]
  },
  {
   "cell_type": "code",
   "execution_count": null,
   "metadata": {},
   "outputs": [],
   "source": [
    "θ = 0:π/16:2π\n",
    "\n",
    "C = [cos.(θ) sin.(θ)] "
   ]
  },
  {
   "cell_type": "markdown",
   "metadata": {},
   "source": [
    "The matrix $C$ now represents a unit circle, with $\\cos(\\theta)$ in the first column `C[:,1]`,\n",
    "and $\\sin(\\theta)$ in the second column `C[:,2]`.\n",
    "\n",
    "It is often convenient to store $x,y$ values in rows rather than columns. To make `C` that way,\n",
    "we can apply the *transpose* operator `'` to `C` and assign the result back into the same variable."
   ]
  },
  {
   "cell_type": "code",
   "execution_count": null,
   "metadata": {},
   "outputs": [],
   "source": [
    "C = C'"
   ]
  },
  {
   "cell_type": "markdown",
   "metadata": {},
   "source": [
    "Or we can construct `C` directly that way, by transposing the vectors `cos.(θ)` and `sin.(θ)`, \n",
    "turning them into row vectors, and then setting them as rows of `C`, spearated by a semicolon."
   ]
  },
  {
   "cell_type": "code",
   "execution_count": null,
   "metadata": {},
   "outputs": [],
   "source": [
    "C = [cos.(θ)' ;  sin.(θ)']"
   ]
  },
  {
   "cell_type": "markdown",
   "metadata": {},
   "source": [
    "**Activity**\n",
    "\n",
    "Assign the first row of `C` to a variable `x` and the"
   ]
  },
  {
   "cell_type": "markdown",
   "metadata": {},
   "source": [
    "Hooray! We are now ready to make plots!"
   ]
  },
  {
   "cell_type": "markdown",
   "metadata": {},
   "source": [
    "### 10. Plotting\n",
    "\n",
    "Julia has several plotting packages. The simplest and most widely-used is called `Plots`. \n",
    "\n",
    "The essential plotting function is `plot(x, y, <options>)`, where `x` and `y` are vectors of\n",
    "$x$ and $y$ coordinates and `<options>` is a set of optional arguments to set things like line colors. \n",
    "\n",
    "\n",
    "#### Example: an xy plot\n",
    "The following code loads the `Plots` package and plots $\\tan(\\theta)$ over $ -\\pi \\leq \\theta \\pi$,\n",
    "with dashed lines indicate the asymptotes where $\\tan(\\theta)$ is undefined."
   ]
  },
  {
   "cell_type": "code",
   "execution_count": null,
   "metadata": {},
   "outputs": [],
   "source": [
    "using Plots\n",
    "\n",
    "θ = range(-π, π, length=128)\n",
    "plot(θ, tan.(θ), linecolor=:blue, label=\"tan(θ)\")\n",
    "\n",
    "for θ in [-π/2; π/2]\n",
    "    plot!([θ; θ], [-4; 4], linecolor=:black, linestyle=:dash, label=\"\")\n",
    "end\n",
    "plot!(xlabel=\"θ\", ylim=(-4,4))\n"
   ]
  },
  {
   "cell_type": "markdown",
   "metadata": {},
   "source": [
    "#### Example: a logarithmic spiral"
   ]
  },
  {
   "cell_type": "code",
   "execution_count": null,
   "metadata": {},
   "outputs": [],
   "source": [
    "θ = range(0, 16π, length=1024)\n",
    "r = (1/2).^(θ/2π)\n",
    "\n",
    "plot(r.*cos.(θ), r.*sin.(θ), linecolor=:blue, label=\"\")\n",
    "plot!(aspect_ratio=:equal)\n"
   ]
  },
  {
   "cell_type": "markdown",
   "metadata": {},
   "source": [
    "#### Example: a square rotated by π/4\n",
    "\n",
    "We've covered all the ingredients of this plot except for the `scatter` function."
   ]
  },
  {
   "cell_type": "code",
   "execution_count": null,
   "metadata": {},
   "outputs": [],
   "source": [
    "X = [1 1 -1 -1 1; -1 1 1 -1 -1]\n",
    "\n",
    "scatter(X[1,:], X[2,:], label=\"\", markercolor=[:red; :blue; :orange; :green; :red])\n",
    "plot!(X[1,:], X[2,:], linecolor=:blue, label=\"unit square\")\n",
    "plot!(aspect_ratio = :equal)"
   ]
  },
  {
   "cell_type": "code",
   "execution_count": null,
   "metadata": {},
   "outputs": [],
   "source": [
    "θ = π/4\n",
    "R = [cos(θ) -sin(θ) ; sin(θ) cos(θ)]\n",
    "RX = R*X\n",
    "\n",
    "scatter!(RX[1,:], RX[2,:], label=\"\", markercolor=[:red; :blue; :orange; :green; :red])\n",
    "plot!(RX[1,:], RX[2,:], linecolor=:blue, linestyle=:dash, label=\"rotated unit square\")"
   ]
  },
  {
   "cell_type": "markdown",
   "metadata": {},
   "source": [
    "## Challenge activity\n",
    "\n",
    "Make a plot of a unit pentagon and the same pentagon rotated by some angle."
   ]
  },
  {
   "cell_type": "code",
   "execution_count": null,
   "metadata": {},
   "outputs": [],
   "source": []
  },
  {
   "cell_type": "markdown",
   "metadata": {},
   "source": [
    "## Challenge activity\n",
    "\n",
    "Suppose the rows of a matrix $X$ store the $x,y$ coordinates of the vertices of a regular polygon.\n",
    "Write a function `move(x, θ)` that shifts the polygon in the plane by the vector `x` and rotates\n",
    "it by the angle θ. Then make a plot of a regular polygon in its original position and in a new, rotated\n",
    "position. "
   ]
  },
  {
   "cell_type": "code",
   "execution_count": null,
   "metadata": {},
   "outputs": [],
   "source": []
  },
  {
   "cell_type": "markdown",
   "metadata": {},
   "source": [
    "## Challenge activity\n",
    "\n",
    "Make an interesting pattern of polygons using your `move` function!"
   ]
  },
  {
   "cell_type": "code",
   "execution_count": null,
   "metadata": {},
   "outputs": [],
   "source": []
  }
 ],
 "metadata": {
  "kernelspec": {
   "display_name": "Julia 1.10.0",
   "language": "julia",
   "name": "julia-1.10"
  },
  "language_info": {
   "file_extension": ".jl",
   "mimetype": "application/julia",
   "name": "julia",
   "version": "1.10.0"
  }
 },
 "nbformat": 4,
 "nbformat_minor": 2
}
