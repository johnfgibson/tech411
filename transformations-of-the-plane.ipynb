{
 "cells": [
  {
   "cell_type": "markdown",
   "metadata": {},
   "source": [
    "# Transformations of the plane \n",
    "\n",
    "Tech 411.05 *Patterns and Symmetry*, University of New Hampshire, J. Gibson 2025-09-18.\n",
    "\n",
    "This is an interactive computational notebook in the Julia programming language.\n",
    "It shows you how to make plots and work with vectors and matrices in Julia,\n",
    "continues our work from last time on transformations of the plane, and gives you\n",
    "a few problems to hone your skills.\n",
    "\n",
    "Julia is similar in syntax and style to Matlab and Python. Key features of Julia\n",
    "  * open-source (free to download and use)\n",
    "  * general-purpose programming language\n",
    "  * special attention to mathematics \n",
    "  * robust built-in libraries and 3rd-party packages \n",
    "  * interactive but fast as compiled C/Fortran\n",
    "  * from MIT, version 1.0 in 2016, now at 1.11\n",
    "  "
   ]
  },
  {
   "cell_type": "markdown",
   "metadata": {},
   "source": [
    "# 1. Plots\n",
    "\n",
    "## Plot some trig functions.\n",
    "\n",
    "Plot $\\sin(x)$ and $\\cos(x)$ versus $x$ over the range $-\\pi \\leq x \\leq \\pi$.\n",
    "\n",
    "(Execute the code cell below by clicking on it and then hitting shift-enter.)"
   ]
  },
  {
   "cell_type": "code",
   "execution_count": null,
   "metadata": {},
   "outputs": [],
   "source": [
    "using Plots            # load a plotting library\n",
    "\n",
    "x = range(-π, π, 200)  # make a vector of 200 evenly-spaced points between -π and π\n",
    "\n",
    "plot(x, cos.(x), color=:blue, label=\"cos x\")  # evaluate cos(x[i]) for each x[i] in vector x, then plot\n",
    "plot!(x, sin.(x), color=:red, label=\"sin x\")\n",
    "plot!(xlabel=\"x\", title=\"a plot of two trig functions\")"
   ]
  },
  {
   "cell_type": "code",
   "execution_count": null,
   "metadata": {},
   "outputs": [],
   "source": [
    "x = range(-π, π, 200) # specify a range of 200 evenly spaced numbers between -π and π"
   ]
  },
  {
   "cell_type": "code",
   "execution_count": null,
   "metadata": {},
   "outputs": [],
   "source": [
    "collect(x)  # collect those values into a vector of numbers"
   ]
  },
  {
   "cell_type": "code",
   "execution_count": null,
   "metadata": {},
   "outputs": [],
   "source": [
    "sin(x)  # apply sin function to vector x (error!)"
   ]
  },
  {
   "cell_type": "code",
   "execution_count": null,
   "metadata": {},
   "outputs": [],
   "source": [
    "sin.(x) # apply sin function to vector x elementwise (works!)"
   ]
  },
  {
   "cell_type": "code",
   "execution_count": null,
   "metadata": {},
   "outputs": [],
   "source": [
    "plot(x, sin.(x)) # plot vector of x values against vector of y = sin.(x) values"
   ]
  },
  {
   "cell_type": "markdown",
   "metadata": {},
   "source": [
    "## Plot a quadratic and its roots\n"
   ]
  },
  {
   "cell_type": "code",
   "execution_count": null,
   "metadata": {},
   "outputs": [],
   "source": [
    "a = 2; b = 3; c = -1\n",
    "\n",
    "f(x) = a*x^2 + b*x + c\n",
    "\n",
    "x = range(-4,2,200)\n",
    "plot(x, f.(x), label=\"f(x) = $(a)x² + $(b)x + $c\")\n",
    "\n",
    "roots = [(-b + sqrt(b^2 - 4a*c))/(2a); (-b - sqrt(b^2 - 4a*c))/(2a)]\n",
    "\n",
    "scatter!(roots, f.(roots), label=\"roots of f(x)\")\n",
    "plot!(xlabel=\"x\", ylabel=\"y\", legend=:topleft)"
   ]
  },
  {
   "cell_type": "markdown",
   "metadata": {},
   "source": [
    "## Plot a square with labeled vertices\n",
    "\n",
    "Here's a function that plots a polygon with labeled vertices. We'll\n",
    "use it later when studying transformations of the square."
   ]
  },
  {
   "cell_type": "code",
   "execution_count": null,
   "metadata": {},
   "outputs": [],
   "source": [
    "# define a function that plots a polygon with labeled vertices\n",
    "# input P is a 2 x (n+1) matrix, specifying the vertices of the polygon\n",
    "\n",
    "function plotpolygon!(P; color=:blue, title=\"\", xylim=2) \n",
    "\n",
    "    plot!(P[1,:], P[2,:], series_type=:path, fill=true, color=color, alpha=0.25)\n",
    "\n",
    "    N = size(P,2)-1                 # number of distinct vertices\n",
    "    labels = ['α' + n for n in 0:N] # produce ['α', 'β', 'γ', ...]\n",
    "    labels[N+1] = ' '               # replace last label with blank\n",
    "\n",
    "    c = [sum(P[1,1:N])/N; sum(P[2,1:N])/N]  # center of polygon, avg of vertices\n",
    "    L = 0.7*(P .- c) .+ c                   # locate labels just inside vertices\n",
    "\n",
    "    annotate!(L[1,:], L[2,:], labels)       # write labels\n",
    "    plot!(aspect_ratio=1, legend=:none)\n",
    "    plot!(xlim=(-xylim,xylim), ylim=(-xylim,xylim))\n",
    "    plot!(title=title, size=(300,300))\n",
    "end\n",
    "\n",
    "function plotpolygon(P; color=:blue, title=\"\", xylim=2)\n",
    "    plot()                  # wipe out last plot\n",
    "    plotpolygon!(P, color=color, title=title, xylim=xylim)  \n",
    "end"
   ]
  },
  {
   "cell_type": "code",
   "execution_count": null,
   "metadata": {},
   "outputs": [],
   "source": [
    "# Represent a square by a matrix of its vertex coordinates\n",
    "# starting with upper right and going counterclockwise.\n",
    "# Repeat the 1st vertex so the plot closes. \n",
    "\n",
    "P = [\n",
    "    1 -1 -1  1  1;  # x coordinates of vertices\n",
    "    1  1 -1 -1  1   # y coordinates of vertices\n",
    "]"
   ]
  },
  {
   "cell_type": "code",
   "execution_count": null,
   "metadata": {},
   "outputs": [],
   "source": [
    "P = [1 -1 -1 1 1; 1  1 -1 -1 1]   # same as above in one line"
   ]
  },
  {
   "cell_type": "code",
   "execution_count": null,
   "metadata": {},
   "outputs": [],
   "source": [
    "p1 = plotpolygon(P, color=:blue)"
   ]
  },
  {
   "cell_type": "markdown",
   "metadata": {},
   "source": [
    "# 2. Vectors and matrices\n",
    "\n",
    "A quick set of examples of how to create and use vectors and matrices."
   ]
  },
  {
   "cell_type": "code",
   "execution_count": null,
   "metadata": {},
   "outputs": [],
   "source": [
    "# initialize a 2d vector x using square brackets\n",
    "\n",
    "x = [2; 3]"
   ]
  },
  {
   "cell_type": "code",
   "execution_count": null,
   "metadata": {},
   "outputs": [],
   "source": [
    "# initialize a 2x2 matrix A using square brackets\n",
    "\n",
    "A = [1 -2; -1.5 0.5 ]"
   ]
  },
  {
   "cell_type": "code",
   "execution_count": null,
   "metadata": {},
   "outputs": [],
   "source": [
    "# do a matrix-vector multiplication\n",
    "\n",
    "y = A*x"
   ]
  },
  {
   "cell_type": "code",
   "execution_count": null,
   "metadata": {},
   "outputs": [],
   "source": [
    "# access components of vectors and matrices with square brackets\n",
    "\n",
    "y[1]"
   ]
  },
  {
   "cell_type": "code",
   "execution_count": null,
   "metadata": {},
   "outputs": [],
   "source": [
    "A[1,2]"
   ]
  },
  {
   "cell_type": "code",
   "execution_count": null,
   "metadata": {},
   "outputs": [],
   "source": [
    "# Julia prints the value of the last statement executed,\n",
    "# but you can show a bunch of values with @show macro\n",
    "\n",
    "@show x[1]\n",
    "@show x[2]\n",
    "@show A[1,2]\n",
    "@show A*x"
   ]
  },
  {
   "cell_type": "markdown",
   "metadata": {},
   "source": [
    "### Getting rows and cols of a matrix\n"
   ]
  },
  {
   "cell_type": "code",
   "execution_count": null,
   "metadata": {},
   "outputs": [],
   "source": [
    "# define a matrix with A_ij = 10i + j\n",
    "\n",
    "A = [\n",
    "    11 12 13 14;\n",
    "    21 22 23 24;\n",
    "    31 32 33 34;\n",
    "    41 42 43 44\n",
    "]"
   ]
  },
  {
   "cell_type": "code",
   "execution_count": null,
   "metadata": {},
   "outputs": [],
   "source": [
    "# same, programmatically\n",
    "\n",
    "A = [10i + j for i in 1:4, j in 1:4]"
   ]
  },
  {
   "cell_type": "code",
   "execution_count": null,
   "metadata": {},
   "outputs": [],
   "source": [
    "# get 3rd column of A\n",
    "\n",
    "A[:,3]   # 3rd row, all columns"
   ]
  },
  {
   "cell_type": "code",
   "execution_count": null,
   "metadata": {},
   "outputs": [],
   "source": [
    "A[2:4, 3]   # rows 2 through 4 in 3rd column"
   ]
  },
  {
   "cell_type": "code",
   "execution_count": null,
   "metadata": {
    "scrolled": true
   },
   "outputs": [],
   "source": [
    "A[1,:]   # get 1st row of A"
   ]
  },
  {
   "cell_type": "code",
   "execution_count": null,
   "metadata": {},
   "outputs": [],
   "source": [
    "# get lower-right 2x2 submatrix \n",
    "\n",
    "A[3:4, 3:4]"
   ]
  },
  {
   "cell_type": "markdown",
   "metadata": {},
   "source": [
    "# 3. Visualizations of $y=Ax$"
   ]
  },
  {
   "cell_type": "code",
   "execution_count": null,
   "metadata": {},
   "outputs": [],
   "source": [
    "# Define some functions for plotting vectors in plane, defaulting to blue with no label\n",
    "# (plot line from origin [0; 0] to v = [v[1]; v[2]])\n",
    "\n",
    "function plotvec!(v; color=:blue, label=\"\", xylim=3) \n",
    "    plot!([0; v[1]], [0; v[2]], arrow=:arrow, linecolor=color, label=label, aspect_ratio=:equal)\n",
    "    plot!(xlim=(-xylim,xylim), ylim=(-xylim,xylim), size=(300,300))\n",
    "end\n",
    "\n",
    "function plotvec(v; color=:blue, label=\"\", xylim=3) \n",
    "    plot()\n",
    "    plotvec!(v, color=color, label=label, xylim=xylim)\n",
    "end"
   ]
  },
  {
   "cell_type": "code",
   "execution_count": null,
   "metadata": {},
   "outputs": [],
   "source": [
    "# define unit vectors along x₁, x₂ axes, plot \n",
    "e₁ = [1; 0]\n",
    "e₂ = [0; 1]\n",
    "\n",
    "# define a unit vector in direction (1,2)\n",
    "x = [1/sqrt(5); 2/sqrt(5)]\n",
    "\n",
    "# make plot of unit vectors\n",
    "plotvec(e₁,  color=:blue, label=\"e₁\")\n",
    "plotvec!(e₂, color=:red, label=\"e₂\")\n",
    "plotvec!(x, color=:grey, label=\"x\")"
   ]
  },
  {
   "cell_type": "code",
   "execution_count": null,
   "metadata": {},
   "outputs": [],
   "source": [
    "# Make plot of A * unit vectors\n",
    "\n",
    "A = [1 -2; -1.5 0.5 ]\n",
    "\n",
    "plotvec(A*e₁, color=:blue, label=\"Ae₁\")\n",
    "plotvec!(A*e₂, color=:red, label=\"Ae₂\")\n",
    "plotvec!(A*x, color=:gray, label=\"Ax\")"
   ]
  },
  {
   "cell_type": "code",
   "execution_count": null,
   "metadata": {},
   "outputs": [],
   "source": [
    "# put those plots side-by-side\n",
    "\n",
    "plotvec(e₁, color=:blue, label=\"e₁\")\n",
    "plotvec!(e₂, color=:red, label=\"e₂\")\n",
    "p1 = plotvec!(x, color=:gray, label=\"x\")\n",
    "\n",
    "plotvec(A*e₁, color=:blue, label=\"Ae₁\")\n",
    "plotvec!(A*e₂, color=:red, label=\"Ae₂\")\n",
    "p2 = plotvec!(A*x, color=:gray, label=\"Ax\")\n",
    "\n",
    "plot(p1,p2, size=(700,300))"
   ]
  },
  {
   "cell_type": "code",
   "execution_count": null,
   "metadata": {},
   "outputs": [],
   "source": [
    "# Add a unit circle and its map to the plots\n",
    "\n",
    "θ = range(0, 2π, length=200)\n",
    "\n",
    "circle = [cos.(θ)'; sin.(θ)']  # ' is the tranpose operator, turns col vec into row vec"
   ]
  },
  {
   "cell_type": "code",
   "execution_count": null,
   "metadata": {},
   "outputs": [],
   "source": [
    "plot(p1) # redraw plot p1\n",
    "p3 = plot!(circle[1,:], circle[2,:], linecolor=:black, label=\"circle\")"
   ]
  },
  {
   "cell_type": "code",
   "execution_count": null,
   "metadata": {},
   "outputs": [],
   "source": [
    "Acircle = A*circle # compute transformed circle\n",
    "\n",
    "plot(p2) # redraw plot p2\n",
    "p4 = plot!(Acircle[1,:], Acircle[2,:], linecolor=:black, label=\"A*circle\")"
   ]
  },
  {
   "cell_type": "code",
   "execution_count": null,
   "metadata": {
    "scrolled": true
   },
   "outputs": [],
   "source": [
    "# show those plots side-by-side\n",
    "plot(p3,p4, size=(600,300))"
   ]
  },
  {
   "cell_type": "markdown",
   "metadata": {},
   "source": [
    "## <font color='green'>Problem: plot a rotated circle </font>\n",
    "\n",
    "Make a plot similar to the above, but replacing the transformation matrix $A$\n",
    "with a rotation matrix $R$ with some angle (you choose). No need to repeat all\n",
    "the steps one by one, just put all the code together in one cell."
   ]
  },
  {
   "cell_type": "code",
   "execution_count": null,
   "metadata": {},
   "outputs": [],
   "source": []
  },
  {
   "cell_type": "markdown",
   "metadata": {},
   "source": [
    "## Plot a labeled square transformed by $A$"
   ]
  },
  {
   "cell_type": "code",
   "execution_count": null,
   "metadata": {},
   "outputs": [],
   "source": [
    "A = [1 -2; -3/2 1/2 ] # transformation matrix\n",
    "\n",
    "P = [1 -1 -1  1  1; # x coords of vertices\n",
    "     1  1 -1 -1  1] # y coords of vertices\n",
    "\n",
    "p1 = plotpolygon(P, color=:blue, title=\"x\", xylim=4)\n",
    "p2 = plotpolygon(A*P, color=:green, title=\"Ax\", xylim=4) # change color for fun\n",
    "plot(p1,p2, size=(700,300))"
   ]
  },
  {
   "cell_type": "markdown",
   "metadata": {},
   "source": [
    "## <font color='green'> Problem: plot the labeled square rotated by $\\pi/6$\n",
    "\n",
    "Show the original square on the left and the rotated square on the right.\n",
    "Make the rotated square green. "
   ]
  },
  {
   "cell_type": "code",
   "execution_count": null,
   "metadata": {
    "scrolled": true
   },
   "outputs": [],
   "source": [
    "θ = π/6\n",
    "R = [cos(θ) -sin(θ); sin(θ) cos(θ)]\n",
    "\n",
    "p1 = plotpolygon(P, title=\"original\", color=:blue)\n",
    "p2 = plotpolygon(R*P, title=\"π/6 rotation\", color=:green) # change color for fun\n",
    "plot(p1,p2, size=(700,300))"
   ]
  },
  {
   "cell_type": "markdown",
   "metadata": {},
   "source": [
    "## <font color='green'> Problem: plot the labeled square rotated by $-\\pi/2$\n",
    "\n",
    "Show the original square on the left and the rotated square on the right."
   ]
  },
  {
   "cell_type": "code",
   "execution_count": null,
   "metadata": {},
   "outputs": [],
   "source": [
    "θ = -pi/2\n",
    "R = [cos(θ) -sin(θ); sin(θ) cos(θ)]\n",
    "\n",
    "p3 = plotpolygon(R*P, title=\"-π/2 rotation\", color=:blue) # change color for fun\n",
    "plot(p1,p3, size=(700,300))"
   ]
  },
  {
   "cell_type": "markdown",
   "metadata": {},
   "source": [
    "Note that, if we start in the upper right and go counter-clockwise, the vertices\n",
    "in the original square are alphabetically increasing: $[\\alpha, \\beta, \\gamma, \\delta]$.\n",
    "\n",
    "After rotation by $-\\pi/2$, starting in the upper-right and going clockwise gives\n",
    "vertices $[\\beta, \\gamma, \\delta, \\alpha]$. This is still alphabetically increasing,\n",
    "justing wrapping around to $\\alpha$ after reaching $\\delta$. "
   ]
  },
  {
   "cell_type": "markdown",
   "metadata": {},
   "source": [
    "## <font color='green'> Problem: plot the labeled square reflected about vertical axis </font> \n",
    "\n",
    "Show the original square on the left and the reflected square on the right. \n",
    "Make the reflected square red."
   ]
  },
  {
   "cell_type": "code",
   "execution_count": null,
   "metadata": {},
   "outputs": [],
   "source": [
    "Sx = [-1 0; 0 1]\n",
    "\n",
    "p4 = plotpolygon(Sx*P, title=\"x reflection\", color=:red) # change color to red\n",
    "plot(p1,p4, size=(700,300))"
   ]
  },
  {
   "cell_type": "markdown",
   "metadata": {},
   "source": [
    "Note that when we read off the vertices of the reflected square,\n",
    "they are $[\\beta, \\alpha, \\delta, \\gamma]$. This sequence is alphabetically \n",
    "decreasing, wrapping around to $\\delta$ after reaching $\\alpha$. \n",
    "\n",
    "In general, rotations don't change the alphabetical ordering of vertices,\n",
    "but reflections do."
   ]
  },
  {
   "cell_type": "markdown",
   "metadata": {},
   "source": [
    "## Multiple plots in a grid\n",
    "\n",
    "If you've done the above correctly, you can arrange the last four plots\n",
    "in a 2 x 2 grid with "
   ]
  },
  {
   "cell_type": "code",
   "execution_count": null,
   "metadata": {},
   "outputs": [],
   "source": [
    "plot(p1,p2,p3,p4, layout=(2,2), size=(600,600))"
   ]
  },
  {
   "cell_type": "markdown",
   "metadata": {},
   "source": [
    "## <font color='green'>Problem: find and plot all permutations of the square </font>\n",
    "\n",
    "Some transformations of the plane leave the square the same size and still \n",
    "aligned with the coordinate axes, but permute the positions of the vertices. \n",
    "\n",
    "For example, your plot of the square rotated by $\\pi/2$ shows the transformed \n",
    "square still aligned, but with vertices permuted from $[\\alpha, \\beta, \\gamma, \\delta]$ \n",
    "to $[\\delta, \\alpha, \\beta, \\gamma]$. \n",
    "\n",
    "Your plot of reflection about the vertical shows the transformed square upright\n",
    "with vertices permuted from $[\\alpha, \\beta, \\gamma, \\delta]$\n",
    "to $[\\beta, \\alpha, \\delta, \\gamma]$.\n",
    "\n",
    "### <font color='green'>(a)</font> \n",
    "\n",
    "Find all the transformations of the plane that leave the square the same size and \n",
    "still aligned with the coordinate axes. Make a plot of each transformed square, and\n",
    "arrange the plots in a grid. Give each subplot a descriptive title so you can track\n",
    "which is which. Color the transformed squares blue or red if the vertices are\n",
    "alphabetically increasing or decreasing going counterclockwise.\n",
    "\n",
    "*Hint:* You might want to start with a piece of paper cut into a square, with\n",
    "the vertices labeled $\\alpha$ through $\\delta$ on both sides. How many different\n",
    "arrangements of the square can you find? Then find matrices that transform the\n",
    "original square into each of those. "
   ]
  },
  {
   "cell_type": "code",
   "execution_count": null,
   "metadata": {},
   "outputs": [],
   "source": []
  },
  {
   "cell_type": "markdown",
   "metadata": {},
   "source": [
    "### <font color='green'>(b)</font>\n",
    "How many such transformations of the square are there?"
   ]
  },
  {
   "cell_type": "code",
   "execution_count": null,
   "metadata": {},
   "outputs": [],
   "source": []
  },
  {
   "cell_type": "markdown",
   "metadata": {},
   "source": [
    "### <font color='green'>(c)</font> \n",
    "\n",
    "What are the matrices that transform the original square\n",
    "to each transformed square? Make a text table that shows for each transformation, the matrix,\n",
    "resulting labeled square, the permuted vertex labels, and the lexigraphical ordering of the labels.\n"
   ]
  },
  {
   "cell_type": "code",
   "execution_count": null,
   "metadata": {},
   "outputs": [],
   "source": [
    "#      matrix       permutation   ordering\n",
    "# T₁ = [1 0; 0 1]   [α, β, γ, δ]   increasing\n",
    "# etc."
   ]
  },
  {
   "cell_type": "markdown",
   "metadata": {},
   "source": [
    "### <font color='green'>(d)</font>\n",
    "\n",
    "See if you can express each of your matrices from (c) as some product of two matrices,\n",
    "$R$ representing rotation by $\\pi/4$ and $S_x$ representing reflection in $x$.\n",
    "\n",
    "\\begin{align*}\n",
    "R = \\begin{bmatrix} 0 & -1 \\\\ 1 & 0 \\end{bmatrix} \\quad \\quad S_x = \\begin{bmatrix} -1 & 0 \\\\ 0 & 1 \\end{bmatrix}\n",
    "\\end{align*}\n",
    "\n",
    "Hint: you should be able to express every matrix from (c) as either $R^n$ or $R^n S_x$, where $n=0, 1, 2,$ or $3$. You can figure out what the right powers are by trying them in the computer, or by working them out with\n",
    "the paper cut-out square. \n"
   ]
  },
  {
   "cell_type": "markdown",
   "metadata": {},
   "source": [
    "## <font color='green'> Problem: transformations of the regular $n$-gon </font>\n",
    "\n",
    "Choose your favorite regular polygon (equilateral triangle, square, pentagon, hexagon, ...)\n",
    "and repeat the last problem for this new polygon.\n"
   ]
  },
  {
   "cell_type": "code",
   "execution_count": null,
   "metadata": {},
   "outputs": [],
   "source": [
    "\n"
   ]
  }
 ],
 "metadata": {
  "kernelspec": {
   "display_name": "Julia 1.11.6",
   "language": "julia",
   "name": "julia-1.11"
  },
  "language_info": {
   "file_extension": ".jl",
   "mimetype": "application/julia",
   "name": "julia",
   "version": "1.11.6"
  }
 },
 "nbformat": 4,
 "nbformat_minor": 2
}
